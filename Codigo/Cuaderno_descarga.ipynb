{
 "cells": [
  {
   "cell_type": "markdown",
   "metadata": {},
   "source": [
    "## **Taller 1 - Cuaderno de descarga del API**\n",
    "## **Maestría en Inteligencia de Negocios - 008**\n",
    "## **Documentación del API: Reporte de Lesiones Personales y en Accidentes de Tránsito de la Policía Nacional**\n",
    "\n",
    "*Estudiantes:*\n",
    "1. Leyde Lorena Chaparro Cortés\n",
    "2. Diana Katherin Jimenez Contreras\n",
    "3. Cindy Dayana Rozo Romero \n"
   ]
  },
  {
   "cell_type": "markdown",
   "metadata": {},
   "source": [
    "## **Introducción**\n",
    "\n",
    "La base de datos **\"Reporte Lesiones Personales y en Accidente de Tránsito - Policía Nacional\"**, alojada en el portal de datos abiertos del Gobierno de Colombia (https://www.datos.gov.co/Seguridad-y-Defensa/Reporte-Lesiones-Personales-y-en-Accidente-de-Tr-n/72sg-cybi/data?no_mobile=true&utm_source=chatgpt.com), es un recurso clave para el análisis de la seguridad vial y los incidentes de lesiones personales en el país. Proporcionada por la **Dirección de Investigación Criminal e INTERPOL (DIJIN) de la Policía Nacional**, esta base de datos contiene información detallada sobre los casos registrados desde el 1 de enero de 2010 hasta el 31 de octubre de 2024, permitiendo un seguimiento histórico de estos eventos. Estos datos están disponibles públicamente a través del portal de Datos Abiertos Colombia y se pueden acceder mediante una API RESTful.\n",
    "\n",
    "El conjunto de datos incluye variables como el tipo de lesión, la ubicación geográfica del incidente, la fecha del suceso y otras características relevantes para comprender las tendencias y patrones de estos hechos en Colombia. Esta información es de gran utilidad para entidades gubernamentales, investigadores, periodistas y ciudadanos interesados en la seguridad pública y el análisis de políticas de prevención.\n",
    "\n",
    "Gracias a su acceso abierto, esta base de datos facilita la generación de estudios y análisis sobre la incidencia de las lesiones personales y los accidentes de tránsito, contribuyendo a la toma de decisiones informadas y al desarrollo de estrategias que mejoren la seguridad y reduzcan la siniestralidad en el país."
   ]
  },
  {
   "cell_type": "markdown",
   "metadata": {},
   "source": [
    "## **Acceso a los Datos**\n",
    "\n",
    "Para interactuar con este conjunto de datos, se utiliza el protocolo HTTP a través de solicitudes RESTful. La API permite realizar operaciones como lectura, filtrado y consulta de los datos disponibles.\n",
    "\n",
    "### Endpoint Base\n",
    "El endpoint base para acceder al conjunto de datos es: \n",
    "https://www.datos.gov.co/resource/72sg-cybi.json\n"
   ]
  },
  {
   "cell_type": "markdown",
   "metadata": {},
   "source": [
    "Este endpoint devuelve los datos en formato JSON. Para obtener los datos en formato CSV, se puede utilizar: \n",
    "https://www.datos.gov.co/resource/72sg-cybi.csv\n"
   ]
  },
  {
   "cell_type": "markdown",
   "metadata": {},
   "source": [
    "## **Autenticación**\n",
    "\n",
    "Aunque es posible acceder a los datos sin autenticación, se recomienda obtener un token de aplicación para evitar limitaciones en el uso y mejorar la capacidad de las solicitudes. Para obtener un token, es necesario registrarse en el portal de Datos Abiertos Colombia y seguir las instrucciones proporcionadas.\n",
    "\n"
   ]
  },
  {
   "cell_type": "markdown",
   "metadata": {},
   "source": [
    " ## **Parámetros de Consulta** \n",
    "\n",
    "La API permite filtrar y consultar los datos utilizando parámetros específicos. A continuación, se presentan algunos de los parámetros más comunes:\n",
    "\n",
    "- **$select**: Especifica las columnas que se desean recuperar.\n",
    "\n",
    "- **$where**: Aplica condiciones para filtrar los registros.\n",
    "\n",
    "- **$order**: Ordena los resultados según una o más columnas.\n",
    "\n",
    "- **$limit**: Define el número máximo de registros a devolver.\n",
    "\n",
    "- **$offset**: Especifica el punto de inicio para la recuperación de registros."
   ]
  },
  {
   "cell_type": "markdown",
   "metadata": {},
   "source": [
    "## **Formato de los Datos**\n",
    "\n",
    "Cada registro en el conjunto de datos contiene información relevante sobre el incidente, incluyendo, pero no limitado a:\n",
    "\n",
    "- fecha_incidente: Fecha y hora del incidente.\n",
    "\n",
    "- municipio: Municipio donde ocurrió el incidente.\n",
    "\n",
    "- tipo_lesion: Clasificación de la lesión (personal o por accidente de tránsito).\n",
    "\n",
    "- descripcion: Descripción detallada del incidente."
   ]
  },
  {
   "cell_type": "markdown",
   "metadata": {},
   "source": [
    "## **Consideraciones Adicionales**\n",
    "\n",
    "- Actualización de Datos: Los datos se actualizan trimestralmente. La última actualización registrada fue el 23 de noviembre de 2024.\n",
    "\n",
    "- Fuente de los Datos: Dirección de Investigación Criminal e INTERPOL (DIJIN) - Policía Nacional.\n"
   ]
  },
  {
   "cell_type": "markdown",
   "metadata": {},
   "source": [
    "## **Recursos Adicionales**\n",
    "\n",
    "- Portal de Datos Abiertos Colombia: https://www.datos.gov.co/\n",
    "- Documentación de la API de Socrata: https://dev.socrata.com/"
   ]
  },
  {
   "cell_type": "markdown",
   "metadata": {},
   "source": [
    "---\n",
    "\n",
    "# **API: Lesiones Personales y en Accidentes de Tránsito de la Policía Nacional**\n",
    "\n",
    "### **1. URL del API** \n",
    "Una vez dicho lo anterior, se importa el API de Lesiones Personales y en Accidentes de Tránsito de la Policía Nacional con el siguiente código:"
   ]
  },
  {
   "cell_type": "code",
   "execution_count": 2,
   "metadata": {},
   "outputs": [],
   "source": [
    "import requests\n",
    "import pandas as pd\n",
    "\n",
    "# URL base de Socrata (dataset de lesiones personales y accidentes de tránsito en Colombia)\n",
    "url = \"https://www.datos.gov.co/resource/72sg-cybi.json\"\n",
    "\n",
    "# Tu App Token (opcional)\n",
    "app_token = None  \n",
    "\n",
    "# Configurar encabezados para la solicitud\n",
    "headers = {\n",
    "    \"X-App-Token\": app_token\n",
    "} if app_token else {}"
   ]
  },
  {
   "cell_type": "markdown",
   "metadata": {},
   "source": [
    "---\n",
    "\n",
    "### **2. Solicitar Datos**\n",
    "Consultamos los datos de la API usando un filtro del departamento de Santander desde el año 2010 hasta el último registro."
   ]
  },
  {
   "cell_type": "code",
   "execution_count": 3,
   "metadata": {},
   "outputs": [
    {
     "name": "stdout",
     "output_type": "stream",
     "text": [
      "Datos recibidos exitosamente.\n"
     ]
    }
   ],
   "source": [
    "# Parámetros para filtrar los datos\n",
    "params = {\n",
    "    \"$where\": \"upper(departamento) = 'SANTANDER' AND fecha_hecho >= '2010-01-01T00:00:00'\",  # Filtrar desde 2010\n",
    "    \"$limit\": 90000  # Obtener hasta 90,000 registros\n",
    "}\n",
    "# Realizar la solicitud GET\n",
    "response = requests.get(url, headers=headers, params=params)\n",
    "\n",
    "# Verificar el estado de la respuesta\n",
    "if response.status_code == 200:\n",
    "    datos = response.json()\n",
    "    print(\"Datos recibidos exitosamente.\")\n",
    "else:\n",
    "    print(f\"Error al acceder a la API: {response.status_code}\")\n",
    "    datos = []"
   ]
  },
  {
   "cell_type": "markdown",
   "metadata": {},
   "source": [
    "---\n",
    "### **3. Convertir los Datos a un DataFrame**\n",
    "Una vez obtenidos los datos, los transformamos en un `DataFrame` de pandas para facilitar su análisis."
   ]
  },
  {
   "cell_type": "code",
   "execution_count": 7,
   "metadata": {},
   "outputs": [
    {
     "name": "stdout",
     "output_type": "stream",
     "text": [
      "Primeras 5 filas del DataFrame:\n"
     ]
    },
    {
     "data": {
      "text/html": [
       "<div>\n",
       "<style scoped>\n",
       "    .dataframe tbody tr th:only-of-type {\n",
       "        vertical-align: middle;\n",
       "    }\n",
       "\n",
       "    .dataframe tbody tr th {\n",
       "        vertical-align: top;\n",
       "    }\n",
       "\n",
       "    .dataframe thead th {\n",
       "        text-align: right;\n",
       "    }\n",
       "</style>\n",
       "<table border=\"1\" class=\"dataframe\">\n",
       "  <thead>\n",
       "    <tr style=\"text-align: right;\">\n",
       "      <th></th>\n",
       "      <th>departamento</th>\n",
       "      <th>municipio</th>\n",
       "      <th>codigo_dane</th>\n",
       "      <th>armas_medios</th>\n",
       "      <th>fecha_hecho</th>\n",
       "      <th>genero</th>\n",
       "      <th>grupo_etario</th>\n",
       "      <th>descripci_n_conducta</th>\n",
       "      <th>cantidad</th>\n",
       "    </tr>\n",
       "  </thead>\n",
       "  <tbody>\n",
       "    <tr>\n",
       "      <th>0</th>\n",
       "      <td>SANTANDER</td>\n",
       "      <td>BARRANCABERMEJA</td>\n",
       "      <td>68081000</td>\n",
       "      <td>ARMA BLANCA / CORTOPUNZANTE</td>\n",
       "      <td>2/01/2021</td>\n",
       "      <td>MASCULINO</td>\n",
       "      <td>ADULTOS</td>\n",
       "      <td>LESIONES PERSONALES</td>\n",
       "      <td>1</td>\n",
       "    </tr>\n",
       "    <tr>\n",
       "      <th>1</th>\n",
       "      <td>SANTANDER</td>\n",
       "      <td>BUCARAMANGA (CT)</td>\n",
       "      <td>68001000</td>\n",
       "      <td>ARMA BLANCA / CORTOPUNZANTE</td>\n",
       "      <td>2/01/2021</td>\n",
       "      <td>MASCULINO</td>\n",
       "      <td>ADOLESCENTES</td>\n",
       "      <td>LESIONES PERSONALES</td>\n",
       "      <td>1</td>\n",
       "    </tr>\n",
       "    <tr>\n",
       "      <th>2</th>\n",
       "      <td>SANTANDER</td>\n",
       "      <td>BUCARAMANGA (CT)</td>\n",
       "      <td>68001000</td>\n",
       "      <td>ARMA BLANCA / CORTOPUNZANTE</td>\n",
       "      <td>2/01/2021</td>\n",
       "      <td>MASCULINO</td>\n",
       "      <td>ADULTOS</td>\n",
       "      <td>LESIONES PERSONALES</td>\n",
       "      <td>1</td>\n",
       "    </tr>\n",
       "    <tr>\n",
       "      <th>3</th>\n",
       "      <td>SANTANDER</td>\n",
       "      <td>LEBRIJA</td>\n",
       "      <td>68406000</td>\n",
       "      <td>ARMA BLANCA / CORTOPUNZANTE</td>\n",
       "      <td>2/01/2021</td>\n",
       "      <td>MASCULINO</td>\n",
       "      <td>ADULTOS</td>\n",
       "      <td>LESIONES PERSONALES</td>\n",
       "      <td>2</td>\n",
       "    </tr>\n",
       "    <tr>\n",
       "      <th>4</th>\n",
       "      <td>SANTANDER</td>\n",
       "      <td>BARRANCABERMEJA</td>\n",
       "      <td>68081000</td>\n",
       "      <td>CONTUNDENTES</td>\n",
       "      <td>2/01/2021</td>\n",
       "      <td>FEMENINO</td>\n",
       "      <td>ADULTOS</td>\n",
       "      <td>LESIONES PERSONALES</td>\n",
       "      <td>1</td>\n",
       "    </tr>\n",
       "  </tbody>\n",
       "</table>\n",
       "</div>"
      ],
      "text/plain": [
       "  departamento         municipio codigo_dane                 armas_medios  \\\n",
       "0    SANTANDER   BARRANCABERMEJA    68081000  ARMA BLANCA / CORTOPUNZANTE   \n",
       "1    SANTANDER  BUCARAMANGA (CT)    68001000  ARMA BLANCA / CORTOPUNZANTE   \n",
       "2    SANTANDER  BUCARAMANGA (CT)    68001000  ARMA BLANCA / CORTOPUNZANTE   \n",
       "3    SANTANDER           LEBRIJA    68406000  ARMA BLANCA / CORTOPUNZANTE   \n",
       "4    SANTANDER   BARRANCABERMEJA    68081000                 CONTUNDENTES   \n",
       "\n",
       "  fecha_hecho     genero  grupo_etario descripci_n_conducta cantidad  \n",
       "0   2/01/2021  MASCULINO       ADULTOS  LESIONES PERSONALES        1  \n",
       "1   2/01/2021  MASCULINO  ADOLESCENTES  LESIONES PERSONALES        1  \n",
       "2   2/01/2021  MASCULINO       ADULTOS  LESIONES PERSONALES        1  \n",
       "3   2/01/2021  MASCULINO       ADULTOS  LESIONES PERSONALES        2  \n",
       "4   2/01/2021   FEMENINO       ADULTOS  LESIONES PERSONALES        1  "
      ]
     },
     "metadata": {},
     "output_type": "display_data"
    }
   ],
   "source": [
    "# Convertir los datos a un DataFrame\n",
    "if datos:\n",
    "    df = pd.DataFrame(datos)\n",
    "    print(\"Primeras 5 filas del DataFrame:\")\n",
    "    display(df.head())\n",
    "else:\n",
    "    print(\"No se recibieron datos.\")"
   ]
  },
  {
   "cell_type": "markdown",
   "metadata": {},
   "source": [
    "---\n",
    "\n",
    "### **Exportación del API a Excel y CSV***"
   ]
  },
  {
   "cell_type": "markdown",
   "metadata": {},
   "source": [
    "### 1. Exportación Excel"
   ]
  },
  {
   "cell_type": "code",
   "execution_count": 5,
   "metadata": {},
   "outputs": [
    {
     "name": "stdout",
     "output_type": "stream",
     "text": [
      "Archivo Excel guardado con éxito.\n"
     ]
    }
   ],
   "source": [
    "df.to_excel(\"Incidentes_santander.xlsx\", index=False)\n",
    "print(\"Archivo Excel guardado con éxito.\")"
   ]
  },
  {
   "cell_type": "markdown",
   "metadata": {},
   "source": [
    "### 2. Exportación CSV"
   ]
  },
  {
   "cell_type": "code",
   "execution_count": 6,
   "metadata": {},
   "outputs": [
    {
     "name": "stdout",
     "output_type": "stream",
     "text": [
      "Archivo CSV guardado con éxito.\n"
     ]
    }
   ],
   "source": [
    "df.to_csv(\"Incidentes_santander.csv\", index=False, encoding=\"utf-8\")\n",
    "print(\"Archivo CSV guardado con éxito.\")"
   ]
  }
 ],
 "metadata": {
  "kernelspec": {
   "display_name": "Python 3",
   "language": "python",
   "name": "python3"
  },
  "language_info": {
   "codemirror_mode": {
    "name": "ipython",
    "version": 3
   },
   "file_extension": ".py",
   "mimetype": "text/x-python",
   "name": "python",
   "nbconvert_exporter": "python",
   "pygments_lexer": "ipython3",
   "version": "3.11.11"
  }
 },
 "nbformat": 4,
 "nbformat_minor": 2
}
